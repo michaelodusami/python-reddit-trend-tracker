{
 "cells": [
  {
   "cell_type": "code",
   "execution_count": 26,
   "id": "0b752057-c4da-4caf-b546-836a0293a220",
   "metadata": {},
   "outputs": [],
   "source": [
    "import pandas as pd\n",
    "import numpy as np\n",
    "from dotenv import load_dotenv\n",
    "import os\n",
    "import praw\n",
    "from textblob import TextBlob\n",
    "from sqlalchemy import create_engine, text"
   ]
  },
  {
   "cell_type": "code",
   "execution_count": 8,
   "id": "4c4d4ebe-368e-4334-b21e-708d0e0216c7",
   "metadata": {},
   "outputs": [
    {
     "data": {
      "text/plain": [
       "True"
      ]
     },
     "execution_count": 8,
     "metadata": {},
     "output_type": "execute_result"
    }
   ],
   "source": [
    "# loading the env variables\n",
    "load_dotenv()"
   ]
  },
  {
   "cell_type": "code",
   "execution_count": 9,
   "id": "912a11fa-c919-42ff-bf28-0be82692efe3",
   "metadata": {},
   "outputs": [],
   "source": [
    "client_secret = os.getenv(\"APP_SECRET_KEY\")\n",
    "client_id = os.getenv(\"APP_CLIENT_ID\")\n",
    "user_agent_url = os.getenv(\"APP_USER_AGENT\")\n",
    "database_url = os.getenv(\"DATABASE_URL\")"
   ]
  },
  {
   "cell_type": "code",
   "execution_count": 10,
   "id": "5941ffbe-3d72-410e-8222-0e72ea8e9f21",
   "metadata": {},
   "outputs": [],
   "source": [
    "# creating connection and engine\n",
    "engine = create_engine(database_url)"
   ]
  },
  {
   "cell_type": "code",
   "execution_count": 11,
   "id": "a68434bd-a66f-433a-9fcc-d6d043099983",
   "metadata": {},
   "outputs": [],
   "source": [
    "# ---- checking to make sure everything is here -----\n",
    "if not all([client_secret, client_id, user_agent_url]):\n",
    "    raise ValueError(\"Missing one or more required environment variables: APP_SECRET_KEY, APP_CLIENT_ID, APP_USER_AGENT\")"
   ]
  },
  {
   "cell_type": "markdown",
   "id": "c0ce4747-f202-429c-b57b-059b4d925c99",
   "metadata": {},
   "source": [
    "## Setting up reddit"
   ]
  },
  {
   "cell_type": "code",
   "execution_count": 12,
   "id": "b0d20be2-ade9-4d4e-b555-38f9fe96e3a7",
   "metadata": {},
   "outputs": [],
   "source": [
    "reddit = praw.Reddit(\n",
    "    client_id= client_id,\n",
    "    client_secret= client_secret,\n",
    "    user_agent=user_agent_url)"
   ]
  },
  {
   "cell_type": "code",
   "execution_count": 13,
   "id": "9e4c945f-8c15-417b-9b8a-b7c3040ef7b9",
   "metadata": {},
   "outputs": [
    {
     "data": {
      "text/plain": [
       "True"
      ]
     },
     "execution_count": 13,
     "metadata": {},
     "output_type": "execute_result"
    }
   ],
   "source": [
    "# check to make sure we are using the right version\n",
    "reddit.read_only"
   ]
  },
  {
   "cell_type": "markdown",
   "id": "b6ce9b23-e1ce-4688-96c1-b7617b3ab723",
   "metadata": {},
   "source": [
    "## Extrating posts from a subreddit"
   ]
  },
  {
   "cell_type": "code",
   "execution_count": 14,
   "id": "283d3038-20af-493d-9bbe-69c8385a507a",
   "metadata": {},
   "outputs": [],
   "source": [
    "someSubredditName = \"csMajors\"\n",
    "subreddit = reddit.subreddit(someSubredditName)\n",
    "top_posts = subreddit.top(limit=50, time_filter=\"day\")"
   ]
  },
  {
   "cell_type": "code",
   "execution_count": 15,
   "id": "73daaaec-e2f1-4595-acb5-259484ff1901",
   "metadata": {},
   "outputs": [],
   "source": [
    "raw_data = []\n",
    "for post in top_posts:\n",
    "    raw_data.append({\n",
    "        \"post_id\": post.id,\n",
    "        \"title\": post.title,\n",
    "        \"author\": str(post.author),\n",
    "        \"score\": post.score,\n",
    "        \"num_comments\": post.num_comments,\n",
    "        \"created_utc\": post.created_utc\n",
    "    })"
   ]
  },
  {
   "cell_type": "code",
   "execution_count": 16,
   "id": "0b1252e9-daea-488f-a452-d7bec62e7c6d",
   "metadata": {},
   "outputs": [
    {
     "data": {
      "text/plain": [
       "50"
      ]
     },
     "execution_count": 16,
     "metadata": {},
     "output_type": "execute_result"
    }
   ],
   "source": [
    "len(raw_data)"
   ]
  },
  {
   "cell_type": "code",
   "execution_count": 17,
   "id": "d0142bfe-8d22-483d-9ca6-61ad7753812b",
   "metadata": {},
   "outputs": [
    {
     "data": {
      "text/plain": [
       "{'post_id': '1jdvbiy',\n",
       " 'title': 'Microsoft commented on my TikTok, how can I turn this into an interview?',\n",
       " 'author': 'AdWooden391',\n",
       " 'score': 945,\n",
       " 'num_comments': 35,\n",
       " 'created_utc': 1742266410.0}"
      ]
     },
     "execution_count": 17,
     "metadata": {},
     "output_type": "execute_result"
    }
   ],
   "source": [
    "raw_data[0]"
   ]
  },
  {
   "cell_type": "markdown",
   "id": "f5ddf50f-d2db-44fc-a1bf-fcb380c62bbc",
   "metadata": {},
   "source": [
    "## Transform Phse\n",
    "1. Data Cleaning: Remove null authors, standardize timestamps, handle text encoding\n",
    "2. Sentiment Analysis: Using textblob to get sentiment polarity\n",
    "3. Data MOdeling: convert timestamps to a standard datetime"
   ]
  },
  {
   "cell_type": "code",
   "execution_count": 18,
   "id": "6045c4d2-49a7-4c2c-9486-71d600e55309",
   "metadata": {},
   "outputs": [],
   "source": [
    "df = pd.DataFrame(raw_data)"
   ]
  },
  {
   "cell_type": "code",
   "execution_count": 19,
   "id": "f207136c-c561-46d9-b406-211d7b6006dd",
   "metadata": {},
   "outputs": [
    {
     "data": {
      "text/html": [
       "<div>\n",
       "<style scoped>\n",
       "    .dataframe tbody tr th:only-of-type {\n",
       "        vertical-align: middle;\n",
       "    }\n",
       "\n",
       "    .dataframe tbody tr th {\n",
       "        vertical-align: top;\n",
       "    }\n",
       "\n",
       "    .dataframe thead th {\n",
       "        text-align: right;\n",
       "    }\n",
       "</style>\n",
       "<table border=\"1\" class=\"dataframe\">\n",
       "  <thead>\n",
       "    <tr style=\"text-align: right;\">\n",
       "      <th></th>\n",
       "      <th>post_id</th>\n",
       "      <th>title</th>\n",
       "      <th>author</th>\n",
       "      <th>score</th>\n",
       "      <th>num_comments</th>\n",
       "      <th>created_utc</th>\n",
       "    </tr>\n",
       "  </thead>\n",
       "  <tbody>\n",
       "    <tr>\n",
       "      <th>0</th>\n",
       "      <td>1jdvbiy</td>\n",
       "      <td>Microsoft commented on my TikTok, how can I tu...</td>\n",
       "      <td>AdWooden391</td>\n",
       "      <td>945</td>\n",
       "      <td>35</td>\n",
       "      <td>1.742266e+09</td>\n",
       "    </tr>\n",
       "    <tr>\n",
       "      <th>1</th>\n",
       "      <td>1je61q2</td>\n",
       "      <td>Imagine picking a major so prone to automation...</td>\n",
       "      <td>RegardedEpicGamer</td>\n",
       "      <td>456</td>\n",
       "      <td>149</td>\n",
       "      <td>1.742308e+09</td>\n",
       "    </tr>\n",
       "    <tr>\n",
       "      <th>2</th>\n",
       "      <td>1jdtjba</td>\n",
       "      <td>How it feels to get an internship</td>\n",
       "      <td>davms87</td>\n",
       "      <td>140</td>\n",
       "      <td>4</td>\n",
       "      <td>1.742261e+09</td>\n",
       "    </tr>\n",
       "    <tr>\n",
       "      <th>3</th>\n",
       "      <td>1jdmfki</td>\n",
       "      <td>Should I take an AI internship from Huawei? Wo...</td>\n",
       "      <td>mhadv102</td>\n",
       "      <td>117</td>\n",
       "      <td>66</td>\n",
       "      <td>1.742242e+09</td>\n",
       "    </tr>\n",
       "    <tr>\n",
       "      <th>4</th>\n",
       "      <td>1jdu62m</td>\n",
       "      <td>Pity the 2025 dec grads and mid 2026 grads.</td>\n",
       "      <td>Dramatic-Fall701</td>\n",
       "      <td>64</td>\n",
       "      <td>68</td>\n",
       "      <td>1.742263e+09</td>\n",
       "    </tr>\n",
       "  </tbody>\n",
       "</table>\n",
       "</div>"
      ],
      "text/plain": [
       "   post_id                                              title  \\\n",
       "0  1jdvbiy  Microsoft commented on my TikTok, how can I tu...   \n",
       "1  1je61q2  Imagine picking a major so prone to automation...   \n",
       "2  1jdtjba                  How it feels to get an internship   \n",
       "3  1jdmfki  Should I take an AI internship from Huawei? Wo...   \n",
       "4  1jdu62m        Pity the 2025 dec grads and mid 2026 grads.   \n",
       "\n",
       "              author  score  num_comments   created_utc  \n",
       "0        AdWooden391    945            35  1.742266e+09  \n",
       "1  RegardedEpicGamer    456           149  1.742308e+09  \n",
       "2            davms87    140             4  1.742261e+09  \n",
       "3           mhadv102    117            66  1.742242e+09  \n",
       "4   Dramatic-Fall701     64            68  1.742263e+09  "
      ]
     },
     "execution_count": 19,
     "metadata": {},
     "output_type": "execute_result"
    }
   ],
   "source": [
    "df.head()"
   ]
  },
  {
   "cell_type": "code",
   "execution_count": 20,
   "id": "a8a4fef5-2c41-41ca-b056-3d6d5efa57d6",
   "metadata": {},
   "outputs": [
    {
     "name": "stdout",
     "output_type": "stream",
     "text": [
      "<class 'pandas.core.frame.DataFrame'>\n",
      "RangeIndex: 50 entries, 0 to 49\n",
      "Data columns (total 6 columns):\n",
      " #   Column        Non-Null Count  Dtype  \n",
      "---  ------        --------------  -----  \n",
      " 0   post_id       50 non-null     object \n",
      " 1   title         50 non-null     object \n",
      " 2   author        50 non-null     object \n",
      " 3   score         50 non-null     int64  \n",
      " 4   num_comments  50 non-null     int64  \n",
      " 5   created_utc   50 non-null     float64\n",
      "dtypes: float64(1), int64(2), object(3)\n",
      "memory usage: 2.5+ KB\n"
     ]
    }
   ],
   "source": [
    "df.info()"
   ]
  },
  {
   "cell_type": "code",
   "execution_count": 21,
   "id": "9700a7e8-129e-4acd-a43c-167c52c63fb2",
   "metadata": {},
   "outputs": [],
   "source": [
    "df[\"created_utc\"] = pd.to_datetime(df[\"created_utc\"])"
   ]
  },
  {
   "cell_type": "code",
   "execution_count": 22,
   "id": "60946686-739b-49b2-8348-4e43fe01500e",
   "metadata": {},
   "outputs": [
    {
     "data": {
      "text/html": [
       "<div>\n",
       "<style scoped>\n",
       "    .dataframe tbody tr th:only-of-type {\n",
       "        vertical-align: middle;\n",
       "    }\n",
       "\n",
       "    .dataframe tbody tr th {\n",
       "        vertical-align: top;\n",
       "    }\n",
       "\n",
       "    .dataframe thead th {\n",
       "        text-align: right;\n",
       "    }\n",
       "</style>\n",
       "<table border=\"1\" class=\"dataframe\">\n",
       "  <thead>\n",
       "    <tr style=\"text-align: right;\">\n",
       "      <th></th>\n",
       "      <th>post_id</th>\n",
       "      <th>title</th>\n",
       "      <th>author</th>\n",
       "      <th>score</th>\n",
       "      <th>num_comments</th>\n",
       "      <th>created_utc</th>\n",
       "    </tr>\n",
       "  </thead>\n",
       "  <tbody>\n",
       "    <tr>\n",
       "      <th>0</th>\n",
       "      <td>1jdvbiy</td>\n",
       "      <td>Microsoft commented on my TikTok, how can I tu...</td>\n",
       "      <td>AdWooden391</td>\n",
       "      <td>945</td>\n",
       "      <td>35</td>\n",
       "      <td>2025-03-18 02:53:30</td>\n",
       "    </tr>\n",
       "  </tbody>\n",
       "</table>\n",
       "</div>"
      ],
      "text/plain": [
       "   post_id                                              title       author  \\\n",
       "0  1jdvbiy  Microsoft commented on my TikTok, how can I tu...  AdWooden391   \n",
       "\n",
       "   score  num_comments         created_utc  \n",
       "0    945            35 2025-03-18 02:53:30  "
      ]
     },
     "execution_count": 22,
     "metadata": {},
     "output_type": "execute_result"
    }
   ],
   "source": [
    "df.head(n=1)"
   ]
  },
  {
   "cell_type": "code",
   "execution_count": 23,
   "id": "539f8c2c-9f77-4508-b973-ef0cc1391c70",
   "metadata": {},
   "outputs": [],
   "source": [
    "def get_sentiment(text):\n",
    "    polarity = TextBlob(text).sentiment.polarity\n",
    "    if polarity > 0.1:\n",
    "        return \"Positive\"\n",
    "    elif polarity < -0.1:\n",
    "        return \"Negative\"\n",
    "    else:\n",
    "        return \"Neutral\"\n",
    "    \n",
    "df[\"sentiment\"] = df[\"title\"].apply(get_sentiment)"
   ]
  },
  {
   "cell_type": "code",
   "execution_count": 24,
   "id": "a129701f-6548-4663-86bf-eccc6e411351",
   "metadata": {},
   "outputs": [
    {
     "data": {
      "text/html": [
       "<div>\n",
       "<style scoped>\n",
       "    .dataframe tbody tr th:only-of-type {\n",
       "        vertical-align: middle;\n",
       "    }\n",
       "\n",
       "    .dataframe tbody tr th {\n",
       "        vertical-align: top;\n",
       "    }\n",
       "\n",
       "    .dataframe thead th {\n",
       "        text-align: right;\n",
       "    }\n",
       "</style>\n",
       "<table border=\"1\" class=\"dataframe\">\n",
       "  <thead>\n",
       "    <tr style=\"text-align: right;\">\n",
       "      <th></th>\n",
       "      <th>post_id</th>\n",
       "      <th>title</th>\n",
       "      <th>author</th>\n",
       "      <th>score</th>\n",
       "      <th>num_comments</th>\n",
       "      <th>created_utc</th>\n",
       "      <th>sentiment</th>\n",
       "    </tr>\n",
       "  </thead>\n",
       "  <tbody>\n",
       "    <tr>\n",
       "      <th>0</th>\n",
       "      <td>1jdvbiy</td>\n",
       "      <td>Microsoft commented on my TikTok, how can I tu...</td>\n",
       "      <td>AdWooden391</td>\n",
       "      <td>945</td>\n",
       "      <td>35</td>\n",
       "      <td>2025-03-18 02:53:30</td>\n",
       "      <td>Neutral</td>\n",
       "    </tr>\n",
       "  </tbody>\n",
       "</table>\n",
       "</div>"
      ],
      "text/plain": [
       "   post_id                                              title       author  \\\n",
       "0  1jdvbiy  Microsoft commented on my TikTok, how can I tu...  AdWooden391   \n",
       "\n",
       "   score  num_comments         created_utc sentiment  \n",
       "0    945            35 2025-03-18 02:53:30   Neutral  "
      ]
     },
     "execution_count": 24,
     "metadata": {},
     "output_type": "execute_result"
    }
   ],
   "source": [
    "df.head(n=1)"
   ]
  },
  {
   "cell_type": "markdown",
   "id": "8639969e-fec7-4e3d-8370-dbd36ea69e72",
   "metadata": {},
   "source": [
    "## Loading Phase"
   ]
  },
  {
   "cell_type": "code",
   "execution_count": 25,
   "id": "b88394ca-d918-4437-aa13-08e56e7efbe7",
   "metadata": {},
   "outputs": [],
   "source": [
    "unique_authors = df[\"author\"].unique()"
   ]
  },
  {
   "cell_type": "code",
   "execution_count": 44,
   "id": "8079801b-fdb3-4add-9ada-8d9077d8dddd",
   "metadata": {},
   "outputs": [
    {
     "name": "stdout",
     "output_type": "stream",
     "text": [
      "Loading dim_subreddit...\n",
      "Loading dim_date...\n",
      "Loading fact_posts...\n",
      "Loading fact_posts and dim_posts...\n",
      "Loading Done\n"
     ]
    }
   ],
   "source": [
    "with engine.begin() as conn:\n",
    "    for author in unique_authors:\n",
    "        # Try to get existing author id\n",
    "        author_id = conn.execute(\n",
    "            text(\"SELECT id FROM dim_authors WHERE author_name = :author\"),\n",
    "            {\"author\": author}\n",
    "        ).scalar()\n",
    "        # If not found, insert new row and get id\n",
    "        if author_id is None:\n",
    "            author_id = conn.execute(\n",
    "                text(\"INSERT INTO dim_authors (author_name) VALUES (:author) RETURNING id\"),\n",
    "                {\"author\": author}\n",
    "            ).scalar()\n",
    "        author_mapping[author] = author_id\n",
    "\n",
    "# ----- Load dim_subreddit -----\n",
    "print(\"Loading dim_subreddit...\")\n",
    "# Assuming the project is for a constant subreddit (e.g., \"AskScience\")\n",
    "subreddit_name = someSubredditName \n",
    "with engine.begin() as conn:\n",
    "    subreddit_id = conn.execute(\n",
    "        text(\"SELECT id FROM dim_subreddit WHERE subreddit_name = :subreddit\"),\n",
    "        {\"subreddit\": subreddit_name}\n",
    "    ).scalar()\n",
    "    if subreddit_id is None:\n",
    "        subreddit_id = conn.execute(\n",
    "            text(\"INSERT INTO dim_subreddit (subreddit_name) VALUES (:subreddit) RETURNING id\"),\n",
    "            {\"subreddit\": subreddit_name}\n",
    "        ).scalar()\n",
    "\n",
    "# ----- Load dim_date -----\n",
    "print(\"Loading dim_date...\")\n",
    "unique_dates = df['created_utc'].dt.date.unique()\n",
    "date_mapping = {}\n",
    "\n",
    "with engine.begin() as conn:\n",
    "    for d in unique_dates:\n",
    "        date_id = conn.execute(\n",
    "            text(\"SELECT date_id FROM dim_date WHERE date_value = :date_value\"),\n",
    "            {\"date_value\": d}\n",
    "        ).scalar()\n",
    "        if date_id is None:\n",
    "            year = d.year\n",
    "            month = d.month\n",
    "            day_of_week = d.weekday()  # Monday = 0\n",
    "            date_id = conn.execute(\n",
    "                text(\"\"\"\n",
    "                    INSERT INTO dim_date (date_value, year, month, day_of_week) \n",
    "                    VALUES (:date_value, :year, :month, :day_of_week) \n",
    "                    RETURNING date_id\n",
    "                \"\"\"),\n",
    "                {\"date_value\": d, \"year\": year, \"month\": month, \"day_of_week\": day_of_week}\n",
    "            ).scalar()\n",
    "        date_mapping[str(d)] = date_id\n",
    "\n",
    "# ----- Load fact_posts -----\n",
    "print(\"Loading fact_posts...\")\n",
    "print(\"Loading fact_posts and dim_posts...\")\n",
    "with engine.begin() as conn:\n",
    "    for _, row in df.iterrows():\n",
    "        author_id = author_mapping[row['author']]\n",
    "        date_str = str(row['created_utc'].date())\n",
    "        date_id = date_mapping[date_str]\n",
    "        \n",
    "        # Insert into fact_posts and capture the fact_id using RETURNING\n",
    "        result = conn.execute(\n",
    "            text(\"\"\"\n",
    "                INSERT INTO fact_posts \n",
    "                (post_id, author_id, subreddit_id, score, num_comments, sentiment, date_id)\n",
    "                VALUES \n",
    "                (:post_id, :author_id, :subreddit_id, :score, :num_comments, :sentiment, :date_id)\n",
    "                RETURNING fact_id\n",
    "            \"\"\"),\n",
    "            {\n",
    "                \"post_id\": row['post_id'],\n",
    "                \"author_id\": author_id,\n",
    "                \"subreddit_id\": subreddit_id,\n",
    "                \"score\": row['score'],\n",
    "                \"num_comments\": row['num_comments'],\n",
    "                \"sentiment\": row['sentiment'],\n",
    "                \"date_id\": date_id\n",
    "            }\n",
    "        )\n",
    "        fact_id = result.scalar()\n",
    "        \n",
    "        # Insert into dim_posts with the returned fact_id and the title\n",
    "        conn.execute(\n",
    "            text(\"\"\"\n",
    "                INSERT INTO dim_posts (author_id, fact_post_id, title)\n",
    "                VALUES (:author_id, :fact_post_id, :title)\n",
    "            \"\"\"),\n",
    "            {\n",
    "                \"author_id\": author_id,\n",
    "                \"fact_post_id\": fact_id,\n",
    "                \"title\": row['title']\n",
    "            }\n",
    "        )\n",
    "print(\"Loading Done\")"
   ]
  },
  {
   "cell_type": "code",
   "execution_count": null,
   "id": "02d63e99-6a87-4b23-a489-5752f470f805",
   "metadata": {},
   "outputs": [],
   "source": []
  }
 ],
 "metadata": {
  "kernelspec": {
   "display_name": "Python 3 (ipykernel)",
   "language": "python",
   "name": "python3"
  },
  "language_info": {
   "codemirror_mode": {
    "name": "ipython",
    "version": 3
   },
   "file_extension": ".py",
   "mimetype": "text/x-python",
   "name": "python",
   "nbconvert_exporter": "python",
   "pygments_lexer": "ipython3",
   "version": "3.13.2"
  }
 },
 "nbformat": 4,
 "nbformat_minor": 5
}
