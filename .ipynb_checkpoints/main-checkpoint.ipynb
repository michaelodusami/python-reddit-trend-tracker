{
 "cells": [
  {
   "cell_type": "code",
   "execution_count": 25,
   "id": "0b752057-c4da-4caf-b546-836a0293a220",
   "metadata": {},
   "outputs": [],
   "source": [
    "import pandas as pd\n",
    "import numpy as np\n",
    "from dotenv import load_dotenv\n",
    "import os"
   ]
  },
  {
   "cell_type": "code",
   "execution_count": 26,
   "id": "d4fb105d-d659-46f7-ba5a-369af6d0e01a",
   "metadata": {},
   "outputs": [],
   "source": [
    "# loading the env variables\n",
    "load_dotenv()\n",
    "client_secret = os.getenv(\"APP_SECRET_KEY\")\n",
    "client_id = os.getenv(\"APP_CLIENT_ID\")\n",
    "user_agent_url = os.getenv(\"APP_USER_AGENT\")"
   ]
  },
  {
   "cell_type": "code",
   "execution_count": 27,
   "id": "a68434bd-a66f-433a-9fcc-d6d043099983",
   "metadata": {},
   "outputs": [
    {
     "name": "stdout",
     "output_type": "stream",
     "text": [
      "ENV VARIABLES NOT ALL THERE\n"
     ]
    }
   ],
   "source": [
    "# ---- ENSURE ENV VARS ARE THERE | REMOVE DURING PRODUCTION ----\n",
    "if not client_secret == None and not client_id == None and user_agent_url == None:\n",
    "    print(\"ENV VARIABLES ARE PRESENT\")\n",
    "else:\n",
    "    print(\"ENV VARIABLES NOT ALL THERE\")"
   ]
  },
  {
   "cell_type": "code",
   "execution_count": null,
   "id": "bfd61d5e-cd53-47ed-9bef-b59c77296f47",
   "metadata": {},
   "outputs": [],
   "source": []
  }
 ],
 "metadata": {
  "kernelspec": {
   "display_name": "Python 3 (ipykernel)",
   "language": "python",
   "name": "python3"
  },
  "language_info": {
   "codemirror_mode": {
    "name": "ipython",
    "version": 3
   },
   "file_extension": ".py",
   "mimetype": "text/x-python",
   "name": "python",
   "nbconvert_exporter": "python",
   "pygments_lexer": "ipython3",
   "version": "3.13.2"
  }
 },
 "nbformat": 4,
 "nbformat_minor": 5
}
